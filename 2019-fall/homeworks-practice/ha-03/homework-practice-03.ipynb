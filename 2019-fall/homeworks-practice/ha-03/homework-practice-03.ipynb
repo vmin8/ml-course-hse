{
 "cells": [
  {
   "cell_type": "markdown",
   "metadata": {},
   "source": [
    "# Машинное обучение, ФКН ВШЭ\n",
    "\n",
    "## Практическое задание 3. Градиентный спуск своими руками\n",
    "\n",
    "### Общая информация\n",
    "Дата выдачи: 05.10.2019\n",
    "\n",
    "Мягкий дедлайн: 07:59MSK 15.10.2019 (за каждый день просрочки снимается 1 балл)\n",
    "\n",
    "Жесткий дедлайн: 23:59MSK 17.10.2019"
   ]
  },
  {
   "cell_type": "markdown",
   "metadata": {},
   "source": [
    "### О задании\n",
    "\n",
    "В данном задании необходимо реализовать обучение линейной регрессии с помощью различных вариантов градиентного спуска.\n",
    "\n",
    "\n",
    "### Оценивание и штрафы\n",
    "Каждая из задач имеет определенную «стоимость» (указана в скобках около задачи). Максимально допустимая оценка за работу — 10 баллов.\n",
    "\n",
    "Сдавать задание после указанного срока сдачи нельзя. При выставлении неполного балла за задание в связи с наличием ошибок на усмотрение проверяющего предусмотрена возможность исправить работу на указанных в ответном письме условиях.\n",
    "\n",
    "Задание выполняется самостоятельно. «Похожие» решения считаются плагиатом и все задействованные студенты (в том числе те, у кого списали) не могут получить за него больше 0 баллов (подробнее о плагиате см. на странице курса). Если вы нашли решение какого-то из заданий (или его часть) в открытом источнике, необходимо указать ссылку на этот источник в отдельном блоке в конце вашей работы (скорее всего вы будете не единственным, кто это нашел, поэтому чтобы исключить подозрение в плагиате, необходима ссылка на источник).\n",
    "\n",
    "Неэффективная реализация кода может негативно отразиться на оценке.\n",
    "\n",
    "Все ответы должны сопровождаться кодом или комментариями о том, как они были получены.\n",
    "\n",
    "\n",
    "### Формат сдачи\n",
    "Задания сдаются через систему Anytask. Инвайт можно найти на странице курса. Присылать необходимо ноутбук с выполненным заданием. \n",
    "\n",
    "Для удобства проверки самостоятельно посчитайте свою максимальную оценку (исходя из набора решенных задач) и укажите ниже.\n",
    "\n",
    "**Оценка**: ..."
   ]
  },
  {
   "cell_type": "markdown",
   "metadata": {},
   "source": [
    "## Реализация градиентного спуска\n",
    "\n",
    "Реализуйте линейную регрессию с функцией потерь MSE, обучаемую с помощью:\n",
    "\n",
    "** Задание 1 (1 балл)** Градиентного спуска;\n",
    "\n",
    "** Задание 2 (1.5 балла)** Стохастического градиентного спуска;\n",
    "\n",
    "** Задание 3 (2.5 балла)** Метода Momentum.\n",
    "\n",
    "\n",
    "Во всех пунктах необходимо соблюдать следующие условия:\n",
    "\n",
    "* Все вычисления должны быть векторизованы;\n",
    "* Циклы средствами python допускается использовать только для итераций градиентного спуска;\n",
    "* В качестве критерия останова необходимо использовать (одновременно):\n",
    "\n",
    "    * проверку на евклидовую норму разности весов на двух соседних итерациях (например, меньше некоторого малого числа порядка $10^{-6}$, задаваемого параметром `tolerance`);\n",
    "    * достижение максимального числа итераций (например, 10000, задаваемого параметром `max_iter`).\n",
    "* Чтобы проследить, что оптимизационный процесс действительно сходится, будем использовать атрибут класса `loss_history` — в нём после вызова метода `fit` должны содержаться значения функции потерь для всех итераций, начиная с первой (до совершения первого шага по антиградиенту);\n",
    "* Инициализировать веса можно случайным образом или нулевым вектором. \n",
    "\n",
    "\n",
    "Ниже приведён шаблон класса, который должен содержать код реализации каждого из методов."
   ]
  },
  {
   "cell_type": "code",
   "execution_count": 1,
   "metadata": {},
   "outputs": [],
   "source": [
    "import pandas as pd\n",
    "import numpy as np\n",
    "from datetime import datetime\n",
    "from sklearn.model_selection import train_test_split\n",
    "from sklearn.preprocessing import OneHotEncoder\n",
    "from sklearn.preprocessing import StandardScaler\n",
    "from sklearn.metrics import mean_squared_error\n",
    "from sklearn.metrics import r2_score\n",
    "from sklearn.linear_model import LinearRegression\n",
    "\n",
    "from tqdm import tqdm\n",
    "\n",
    "import matplotlib.pyplot as plt"
   ]
  },
  {
   "cell_type": "code",
   "execution_count": 2,
   "metadata": {},
   "outputs": [],
   "source": [
    "from sklearn.base import BaseEstimator\n",
    "\n",
    "class LinearReg(BaseEstimator):\n",
    "    def __init__(self, gd_type='stochastic', \n",
    "                 tolerance=1e-4, \n",
    "                 max_iter=1000, \n",
    "                 w0=None, \n",
    "                 eta=1e-2, \n",
    "                 reg_coef=1e-2, \n",
    "                 alpha=1e-3):\n",
    "        \"\"\"\n",
    "        gd_type: 'full' or 'stochastic' or 'momentum'\n",
    "        tolerance: for stopping gradient descent\n",
    "        max_iter: maximum number of steps in gradient descent\n",
    "        w0: np.array of shape (d) - init weights\n",
    "        eta: learning rate\n",
    "        reg_coef: regularization coef\n",
    "        alpha: momentum coefficient\n",
    "        \"\"\"\n",
    "        self.gd_type = gd_type\n",
    "        self.tolerance = tolerance\n",
    "        self.max_iter = max_iter\n",
    "        self.w0 = w0\n",
    "        self.alpha = alpha\n",
    "        self.w = None\n",
    "        self.eta = eta\n",
    "        self.reg_coef = reg_coef\n",
    "        self.loss_history = None # list of loss function values at each training iteration\n",
    "    \n",
    "    def fit(self, X, y):\n",
    "        \"\"\"\n",
    "        X: np.array of shape (ell, d)\n",
    "        y: np.array of shape (ell)\n",
    "        ---\n",
    "        output: self\n",
    "        \"\"\"\n",
    "        self.loss_history = []\n",
    "        \n",
    "        self.w = self.w0.copy()\n",
    "        \n",
    "        for i in range(self.max_iter):\n",
    "            loss = self.calc_loss(X, y)\n",
    "            self.loss_history.append(loss)\n",
    "            \n",
    "            if self.gd_type == 'full':\n",
    "                grad = self.calc_gradient(X, y)\n",
    "                self.new_w = self.w - self.eta * (grad + 2 * self.reg_coef * self.w)\n",
    "                \n",
    "            elif self.gd_type == 'stochastic':\n",
    "                sample = np.random.randint(X.shape[0], size=1)\n",
    "                grad = self.calc_gradient(X[sample], y[sample])\n",
    "                self.new_w = self.w - self.eta * (grad + 2 * self.reg_coef * self.w)\n",
    "\n",
    "            elif self.gd_type == 'momentum':\n",
    "                grad = self.calc_gradient(X, y)\n",
    "                self.new_w = self.w - (self.alpha * self.w + self.eta * (grad + 2 * self.reg_coef * self.w))\n",
    "            \n",
    "            if np.linalg.norm(self.new_w - self.w) < self.tolerance:\n",
    "                break\n",
    "            \n",
    "            self.w = self.new_w\n",
    "            \n",
    "        return self\n",
    "    \n",
    "    def predict(self, X):\n",
    "        if self.w is None:\n",
    "            raise Exception('Not trained yet')\n",
    "        return X.dot(self.w)\n",
    "    \n",
    "    def calc_gradient(self, X, y):\n",
    "        \"\"\"\n",
    "        X: np.array of shape (ell, d) (ell can be equal to 1 if stochastic)\n",
    "        y: np.array of shape (ell)\n",
    "        ---\n",
    "        output: np.array of shape (d)\n",
    "        \"\"\"\n",
    "        return 2 * np.dot(X.T, np.dot(X, self.w) - y) / y.shape[0]\n",
    "\n",
    "    def calc_loss(self, X, y):\n",
    "        \"\"\"\n",
    "        X: np.array of shape (ell, d)\n",
    "        y: np.array of shape (ell)\n",
    "        ---\n",
    "        output: float \n",
    "        \"\"\" \n",
    "        return np.mean(np.power(X.dot(self.w) - y, 2)) + np.dot(self.w, self.w)"
   ]
  },
  {
   "cell_type": "markdown",
   "metadata": {},
   "source": [
    "** Задание 4 (0 баллов)**. \n",
    "* Загрузите данные из домашнего задания 2 ([train.csv](https://www.kaggle.com/c/nyc-taxi-trip-duration/data));\n",
    "* Разбейте выборку на обучающую и тестовую в отношении 7:3 с random_seed=0;\n",
    "* Преобразуйте целевую переменную `trip_duration` как $\\hat{y} = \\log{(y + 1)}$."
   ]
  },
  {
   "cell_type": "markdown",
   "metadata": {},
   "source": [
    "#### Создание признаков: первый этап"
   ]
  },
  {
   "cell_type": "code",
   "execution_count": 3,
   "metadata": {},
   "outputs": [],
   "source": [
    "df = pd.read_csv('data/train.csv')\n",
    "df['log_trip_duration'] = np.log1p(df['trip_duration'])\n",
    "\n",
    "df = df.drop('dropoff_datetime', axis=1)\n",
    "df['pickup_datetime'] = pd.to_datetime(df['pickup_datetime'])\n",
    "\n",
    "df['hour'] = df['pickup_datetime'].dt.hour\n",
    "df['trips_by_hour'] = df.groupby('hour')['hour'].transform('count')\n",
    "\n",
    "df['dayofweek'] = df['pickup_datetime'].dt.dayofweek\n",
    "df['trips_by_dayofweek'] = df.groupby('dayofweek')['dayofweek'].transform('count')\n",
    "\n",
    "df['month'] = df['pickup_datetime'].dt.month_name()\n",
    "df['trips_by_month_hour'] = df.groupby(['month', 'hour'])['month'].transform('count')\n",
    "\n",
    "df['day'] = df['pickup_datetime'].dt.day_name()\n",
    "df['trips_by_day_hour'] = df.groupby(['day', 'hour'])['hour'].transform('count')\n",
    "\n",
    "df['dayofyear'] = df['pickup_datetime'].dt.dayofyear\n",
    "\n",
    "df['snowstorm'] = (df['pickup_datetime'] >= datetime(2016, 1, 23)) & \\\n",
    "                    (df['pickup_datetime'] < datetime(2016, 1, 25))\n",
    "df['snowstorm'] = df['snowstorm'].astype(int)\n",
    "\n",
    "df['memorial_day'] = (df['pickup_datetime'] >= datetime(2016, 5, 29)) & \\\n",
    "                    (df['pickup_datetime'] < datetime(2016, 5, 30))\n",
    "df['memorial_day'] = df['memorial_day'].astype(int)"
   ]
  },
  {
   "cell_type": "markdown",
   "metadata": {},
   "source": [
    "#### Создание признаков: второй этап"
   ]
  },
  {
   "cell_type": "code",
   "execution_count": 4,
   "metadata": {},
   "outputs": [],
   "source": [
    "def haversine(lat1, lng1, lat2, lng2):\n",
    "    lat1, lng1, lat2, lng2 = map(np.radians, (lat1, lng1, lat2, lng2))\n",
    "    AVG_EARTH_RADIUS = 6371  # in km\n",
    "    lat = lat2 - lat1\n",
    "    lng = lng2 - lng1\n",
    "    d = np.sin(lat * 0.5) ** 2 + np.cos(lat1) * np.cos(lat2) * np.sin(lng * 0.5) ** 2\n",
    "    h = 2 * AVG_EARTH_RADIUS * np.arcsin(np.sqrt(d))\n",
    "    return h"
   ]
  },
  {
   "cell_type": "code",
   "execution_count": 5,
   "metadata": {},
   "outputs": [],
   "source": [
    "df['haversine'] = haversine(df['pickup_latitude'], df['pickup_longitude'], \n",
    "                                  df['dropoff_latitude'], df['dropoff_longitude'])\n",
    "\n",
    "df['log_haversine'] = np.log1p(df['haversine'])\n",
    "\n",
    "df['free_roads'] = ((df['dayofweek'] >= 0) & (df['dayofweek'] <=4) & (df['hour'] >= 4) & (df['hour'] <= 5) |\n",
    "                    (df['dayofweek'] >= 5) & (df['hour'] >= 5) & (df['hour'] <= 6))\n",
    "df['free_roads'] = df['free_roads'].astype(int)\n",
    "\n",
    "df['heavy_traffic'] = ((df['dayofweek'] >= 1) & (df['dayofweek'] <=4) &  \n",
    "                       (df['hour'] >= 8) & (df['hour'] <= 18))\n",
    "df['heavy_traffic'] = df['heavy_traffic'].astype(int)\n",
    "\n",
    "airport_coordinates = {'la_guardia': (40.7748153, -73.8773801), 'JFK': (40.644200, -73.782339)}\n",
    "df['la_guardia_pickup_distance'] = haversine(df['pickup_latitude'], df['pickup_longitude'],\n",
    "                                                   airport_coordinates['la_guardia'][0], \n",
    "                                                   airport_coordinates['la_guardia'][1])\n",
    "\n",
    "df['la_guardia_dropoff_distance'] = haversine(df['dropoff_latitude'], df['dropoff_longitude'],\n",
    "                                                    airport_coordinates['la_guardia'][0], \n",
    "                                                    airport_coordinates['la_guardia'][1])\n",
    "\n",
    "df['jfk_pickup_distance'] = haversine(df['pickup_latitude'], df['pickup_longitude'],\n",
    "                                                   airport_coordinates['JFK'][0], \n",
    "                                                   airport_coordinates['JFK'][1])\n",
    "\n",
    "df['jfk_dropoff_distance'] = haversine(df['dropoff_latitude'], df['dropoff_longitude'],\n",
    "                                                    airport_coordinates['JFK'][0], \n",
    "                                                    airport_coordinates['JFK'][1])\n",
    "\n",
    "df['la_guardia_pickup'] = df['la_guardia_pickup_distance'] < 0.4\n",
    "df['la_guardia_pickup'] = df['la_guardia_pickup'].astype(int)\n",
    "\n",
    "df['la_guardia_dropoff'] = df['la_guardia_dropoff_distance'] < 0.4\n",
    "df['la_guardia_dropoff'] = df['la_guardia_dropoff'].astype(int)\n",
    "\n",
    "df['jfk_pickup'] = df['jfk_pickup_distance'] < 0.4\n",
    "df['jfk_pickup'] = df['jfk_pickup'].astype(int)\n",
    "\n",
    "df['jfk_dropoff'] = df['jfk_dropoff_distance'] < 0.4\n",
    "df['jfk_dropoff'] = df['jfk_dropoff'].astype(int)"
   ]
  },
  {
   "cell_type": "markdown",
   "metadata": {},
   "source": [
    "#### Подготовка выборки"
   ]
  },
  {
   "cell_type": "code",
   "execution_count": 6,
   "metadata": {},
   "outputs": [],
   "source": [
    "features = ['hour', 'dayofweek', 'month', 'dayofyear', \n",
    "            'trips_by_dayofweek', 'trips_by_hour', 'trips_by_month_hour', 'trips_by_day_hour',\n",
    "            'snowstorm', 'memorial_day',\n",
    "            'log_haversine', \n",
    "            'free_roads', 'heavy_traffic',\n",
    "            'la_guardia_pickup', 'la_guardia_dropoff', 'jfk_pickup', 'jfk_dropoff']"
   ]
  },
  {
   "cell_type": "code",
   "execution_count": 7,
   "metadata": {},
   "outputs": [],
   "source": [
    "X = df[features]\n",
    "y = np.array(df['log_trip_duration'])"
   ]
  },
  {
   "cell_type": "code",
   "execution_count": 8,
   "metadata": {},
   "outputs": [],
   "source": [
    "categorical = ['hour', 'dayofweek', 'month', 'dayofyear']\n",
    "num_feat = ['trips_by_dayofweek', 'trips_by_hour', 'trips_by_month_hour', 'trips_by_day_hour', 'log_haversine']\n",
    "binary = ['snowstorm', 'memorial_day', 'free_roads', 'heavy_traffic',\n",
    "          'la_guardia_pickup', 'la_guardia_dropoff', 'jfk_pickup', 'jfk_dropoff']"
   ]
  },
  {
   "cell_type": "code",
   "execution_count": 9,
   "metadata": {},
   "outputs": [],
   "source": [
    "X_train, X_test, y_train, y_test = train_test_split(X, y, test_size=0.2)"
   ]
  },
  {
   "cell_type": "markdown",
   "metadata": {},
   "source": [
    "#### Преобразование признаков"
   ]
  },
  {
   "cell_type": "code",
   "execution_count": 10,
   "metadata": {},
   "outputs": [],
   "source": [
    "enc = OneHotEncoder(handle_unknown='ignore')\n",
    "scaler = StandardScaler()\n",
    "\n",
    "X_train_categ = enc.fit_transform(X_train[categorical])\n",
    "X_train_scaled = scaler.fit_transform(X_train[num_feat])\n",
    "X_train = np.hstack([X_train_categ.toarray(), X_train_scaled, X_train[binary]])"
   ]
  },
  {
   "cell_type": "code",
   "execution_count": 11,
   "metadata": {},
   "outputs": [],
   "source": [
    "X_test_categ = enc.transform(X_test[categorical])\n",
    "X_test_scaled = scaler.transform(X_test[num_feat])\n",
    "X_test = np.hstack([X_test_categ.toarray(), X_test_scaled, X_test[binary]])"
   ]
  },
  {
   "cell_type": "markdown",
   "metadata": {},
   "source": [
    "** Задание 5 (3 балла)**. Обучите и провалидируйте модели на данных из предыдущего пункта, сравните качество между методами по метрикам MSE и $R^2$. Исследуйте влияние параметров `max_iter` и `eta` (`max_iter`, `alpha` и `eta` для Momentum) на процесс оптимизации. Согласуется ли оно с вашими ожиданиями?"
   ]
  },
  {
   "cell_type": "code",
   "execution_count": 12,
   "metadata": {},
   "outputs": [],
   "source": [
    "def rmse(y_true, y_pred):\n",
    "    error = (y_true - y_pred) ** 2\n",
    "    return np.sqrt(np.mean(error))"
   ]
  },
  {
   "cell_type": "code",
   "execution_count": 50,
   "metadata": {},
   "outputs": [],
   "source": [
    "def pipeline(gd_type, max_iter, w0, eta, reg_coef, alpha):\n",
    "    reg = LinearReg(gd_type=gd_type, max_iter=max_iter, w0=w0, eta=eta, reg_coef=reg_coef, alpha=alpha)\n",
    "    reg.fit(X_train, y_train)\n",
    "    return {'reg': reg, \n",
    "            'train_rmse': rmse(y_train, reg.predict(X_train)), \n",
    "            'test_rmse': rmse(y_test, reg.predict(X_test)), \n",
    "            'train_r2': r2_score(y_train, reg.predict(X_train)), \n",
    "            'test_r2': r2_score(y_test, reg.predict(X_test))}"
   ]
  },
  {
   "cell_type": "markdown",
   "metadata": {},
   "source": [
    "##### Как learning_rate влияет на метрики:\n",
    "- loss\n",
    "- RMSE на train / test\n",
    "- R2 на train / test"
   ]
  },
  {
   "cell_type": "code",
   "execution_count": 44,
   "metadata": {},
   "outputs": [],
   "source": [
    "gd_type = 'stochastic'\n",
    "max_iter = 500\n",
    "w0 = np.random.random(X_train.shape[1])\n",
    "etas = np.array([1e-3, 1e-4, 1e-2])\n",
    "reg_coef = 0.5\n",
    "alpha = 0.0"
   ]
  },
  {
   "cell_type": "code",
   "execution_count": 46,
   "metadata": {},
   "outputs": [],
   "source": [
    "metrics_eta = dict()\n",
    "for eta in etas:\n",
    "    metrics_eta[eta] = pipeline(gd_type, max_iter, w0, eta, reg_coef, alpha)"
   ]
  },
  {
   "cell_type": "markdown",
   "metadata": {},
   "source": [
    "Зависимость loss'а от learning_rate:"
   ]
  },
  {
   "cell_type": "code",
   "execution_count": 47,
   "metadata": {},
   "outputs": [
    {
     "data": {
      "text/plain": [
       "<matplotlib.legend.Legend at 0x12cb202e8>"
      ]
     },
     "execution_count": 47,
     "metadata": {},
     "output_type": "execute_result"
    },
    {
     "data": {
      "image/png": "[encoded data removed]",
      "text/plain": [
       "<Figure size 432x288 with 1 Axes>"
      ]
     },
     "metadata": {
      "needs_background": "light"
     },
     "output_type": "display_data"
    }
   ],
   "source": [
    "plt.title('Зависимость loss от learning_rate')\n",
    "plt.xlabel('Номер итерации')\n",
    "plt.ylabel('MSE')\n",
    "for eta in etas:\n",
    "    plt.plot(metrics_eta[eta]['reg'].loss_history, label='eta = {}'.format(eta))\n",
    "plt.legend()"
   ]
  },
  {
   "cell_type": "code",
   "execution_count": 49,
   "metadata": {},
   "outputs": [
    {
     "data": {
      "text/plain": [
       "<matplotlib.legend.Legend at 0x12d7cb4a8>"
      ]
     },
     "execution_count": 49,
     "metadata": {},
     "output_type": "execute_result"
    },
    {
     "data": {
      "image/png": "[encoded data removed]",
      "text/plain": [
       "<Figure size 1152x360 with 2 Axes>"
      ]
     },
     "metadata": {
      "needs_background": "light"
     },
     "output_type": "display_data"
    }
   ],
   "source": [
    "fig, (ax1, ax2) = plt.subplots(1, 2, figsize=(16, 5))\n",
    "\n",
    "fig.suptitle('Метрики качества в зависимости от learning rate')\n",
    "\n",
    "ax1.scatter(etas, [metrics_eta[eta]['train_rmse'] for eta in etas], label='MSE at train set')\n",
    "ax1.scatter(etas, [metrics_eta[eta]['test_rmse'] for eta in etas], label='MSE at test set')\n",
    "ax1.set_xlabel('learning rate')\n",
    "ax1.set_ylabel('MSE')\n",
    "ax1.legend()\n",
    "\n",
    "ax2.scatter(etas, [metrics_eta[eta]['train_r2'] for eta in etas], label='R2 score at train set')\n",
    "ax2.scatter(etas, [metrics_eta[eta]['train_r2'] for eta in etas], label='R2 score at test set')\n",
    "ax2.set_xlabel('learning rate')\n",
    "ax2.set_ylabel('R2 score')\n",
    "ax2.legend()"
   ]
  },
  {
   "cell_type": "markdown",
   "metadata": {},
   "source": [
    "##### Как reg_coef влияет на метрики:"
   ]
  },
  {
   "cell_type": "code",
   "execution_count": 51,
   "metadata": {},
   "outputs": [],
   "source": [
    "gd_type = 'stochastic'\n",
    "max_iter = 500\n",
    "w0 = np.random.random(X_train.shape[1])\n",
    "eta = 1e-2\n",
    "reg_coefs = np.array([0.5, 1, 2, 5, 10])\n",
    "alpha = 0.0"
   ]
  },
  {
   "cell_type": "code",
   "execution_count": 52,
   "metadata": {},
   "outputs": [],
   "source": [
    "metrics_reg_coef = dict()\n",
    "for reg_coef in reg_coefs:\n",
    "    metrics_reg_coef[reg_coef] = pipeline(gd_type, max_iter, w0, eta, reg_coef, alpha)"
   ]
  },
  {
   "cell_type": "code",
   "execution_count": 54,
   "metadata": {},
   "outputs": [
    {
     "data": {
      "text/plain": [
       "<matplotlib.legend.Legend at 0x12db5b4a8>"
      ]
     },
     "execution_count": 54,
     "metadata": {},
     "output_type": "execute_result"
    },
    {
     "data": {
      "image/png": "[encoded data removed]",
      "text/plain": [
       "<Figure size 432x288 with 1 Axes>"
      ]
     },
     "metadata": {
      "needs_background": "light"
     },
     "output_type": "display_data"
    }
   ],
   "source": [
    "plt.title('Зависимость loss от reg_coef')\n",
    "plt.xlabel('Номер итерации')\n",
    "plt.ylabel('MSE')\n",
    "for reg_coef in reg_coefs:\n",
    "    plt.plot(metrics_reg_coef[reg_coef]['reg'].loss_history, label='reg_coef = {}'.format(reg_coef))\n",
    "plt.legend()"
   ]
  },
  {
   "cell_type": "code",
   "execution_count": 58,
   "metadata": {},
   "outputs": [
    {
     "data": {
      "text/plain": [
       "<matplotlib.legend.Legend at 0x11e5d66a0>"
      ]
     },
     "execution_count": 58,
     "metadata": {},
     "output_type": "execute_result"
    },
    {
     "data": {
      "image/png": "[encoded data removed]",
      "text/plain": [
       "<Figure size 1152x360 with 2 Axes>"
      ]
     },
     "metadata": {
      "needs_background": "light"
     },
     "output_type": "display_data"
    }
   ],
   "source": [
    "fig, (ax1, ax2) = plt.subplots(1, 2, figsize=(16, 5))\n",
    "\n",
    "fig.suptitle('Метрики качества в зависимости от коэффициента регуляризации')\n",
    "\n",
    "ax1.scatter(reg_coefs, [metrics_reg_coef[reg_coef]['train_rmse'] for reg_coef in reg_coefs], label='MSE at train set')\n",
    "ax1.scatter(reg_coefs, [metrics_reg_coef[reg_coef]['test_rmse'] for reg_coef in reg_coefs], label='MSE at test set')\n",
    "ax1.set_xlabel('reg_coef')\n",
    "ax1.set_ylabel('MSE')\n",
    "ax1.legend()\n",
    "\n",
    "ax2.scatter(reg_coefs, [metrics_reg_coef[reg_coef]['train_r2'] for reg_coef in reg_coefs], label='R2 score at train set')\n",
    "ax2.scatter(reg_coefs, [metrics_reg_coef[reg_coef]['train_r2'] for reg_coef in reg_coefs], label='R2 score at test set')\n",
    "ax2.set_xlabel('reg_coef')\n",
    "ax2.set_ylabel('R2 score')\n",
    "ax2.legend()"
   ]
  },
  {
   "cell_type": "markdown",
   "metadata": {},
   "source": [
    "** Задание 6 (2 балла)**. Постройте графики (на одной и той же картинке) зависимости величины функции потерь от номера итерации для полного, стохастического градиентного спусков, а также для полного градиентного спуска с методом Momentum. Сделайте выводы о скорости сходимости различных модификаций градиентного спуска.\n",
    "\n",
    "Не забывайте о том, что должны получиться *красивые* графики!"
   ]
  },
  {
   "cell_type": "code",
   "execution_count": null,
   "metadata": {},
   "outputs": [],
   "source": [
    "w0 = np.random.random(X_train.shape[1])\n",
    "clf_stoch = LinearReg(gd_type='stochastic', max_iter=500, w0=w0)\n",
    "clf_stoch.fit(X_train, y_train)\n",
    "\n",
    "clf_full = LinearReg(gd_type='full', max_iter=500, w0=w0)\n",
    "clf_full.fit(X_train, y_train)\n",
    "\n",
    "clf_momentum = LinearReg(gd_type='momentum', max_iter=500, w0=w0)\n",
    "clf_momentum.fit(X_train, y_train)"
   ]
  },
  {
   "cell_type": "code",
   "execution_count": null,
   "metadata": {},
   "outputs": [],
   "source": [
    "plt.plot(clf_stoch.loss_history, label='stochastic')\n",
    "plt.plot(clf_full.loss_history, label='full')\n",
    "plt.plot(clf_momentum.loss_history, label='momentum')\n",
    "plt.title('Фунция потерь для разных видов градиентного спуска')\n",
    "plt.ylabel('MSE')\n",
    "plt.xlabel('Номер итерации')\n",
    "plt.legend()"
   ]
  },
  {
   "cell_type": "markdown",
   "metadata": {},
   "source": [
    "### Бонус "
   ]
  },
  {
   "cell_type": "markdown",
   "metadata": {},
   "source": [
    "** Задание 7 (2 балла)**. Реализуйте линейную регрессию с функцией потерь MSE, обучаемую с помощью метода\n",
    "[Adam](https://arxiv.org/pdf/1412.6980.pdf) - добавьте при необходимости параметры в класс модели, повторите пункты 5 и 6 и сравните результаты. "
   ]
  },
  {
   "cell_type": "markdown",
   "metadata": {},
   "source": [
    "** Задание 8 (2 балла)**. Реализуйте линейную регрессию с функцией потерь\n",
    "$$ L(\\hat{y}, y) = log(cosh(\\hat{y} - y)),$$\n",
    "\n",
    "обучаемую с помощью градиентного спуска."
   ]
  },
  {
   "cell_type": "markdown",
   "metadata": {},
   "source": [
    "** Задание 9 (0.01 балла)**.  Вставьте картинку с вашим любимым мемом в этот Jupyter Notebook"
   ]
  }
 ],
 "metadata": {
  "kernelspec": {
   "display_name": "ml_mipt",
   "language": "python",
   "name": "ml_mipt"
  },
  "language_info": {
   "codemirror_mode": {
    "name": "ipython",
    "version": 3
   },
   "file_extension": ".py",
   "mimetype": "text/x-python",
   "name": "python",
   "nbconvert_exporter": "python",
   "pygments_lexer": "ipython3",
   "version": "3.6.10"
  }
 },
 "nbformat": 4,
 "nbformat_minor": 2
}
